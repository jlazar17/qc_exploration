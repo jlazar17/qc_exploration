{
 "cells": [
  {
   "cell_type": "code",
   "execution_count": 1,
   "metadata": {},
   "outputs": [],
   "source": [
    "import numpy as np\n",
    "from numpy import sin as Sin\n",
    "from numpy import cos as Cos\n",
    "\n",
    "from scipy.optimize import minimize\n",
    "\n",
    "import matplotlib.pyplot as plt\n",
    "plt.style.use('paper.mplstyle')\n",
    "\n",
    "from qiskit import Aer, execute, ClassicalRegister, QuantumRegister, QuantumCircuit"
   ]
  },
  {
   "cell_type": "markdown",
   "metadata": {},
   "source": [
    "# As a first step, we will discuss fitting the PMNS matrix via likelihood minimization"
   ]
  },
  {
   "cell_type": "markdown",
   "metadata": {},
   "source": [
    "We need to fit the six parameters from the paper to match the measured values of the PMNS matrix, given by \n",
    "\n",
    "$$\n",
    "\\begin{pmatrix}\n",
    "    0 & 0 & 0 & 0\\\\\n",
    "    0 & 0 & 0 & 0\\\\\n",
    "    0 & 0 & 0 & 0\\\\\n",
    "    0 & 0 & 0 & 1\\\\\n",
    "\\end{pmatrix}\n",
    "$$\n",
    "\n",
    "To do this, we must first define a likelihood, which must have the proporty that it attains a glabal minimum when the parameters take on the correct value. One way we can achieve this is by using a method inspired by the least squared method. "
   ]
  },
  {
   "cell_type": "markdown",
   "metadata": {},
   "source": [
    "## Least squares likelihood\n",
    "\n",
    "If we denote the measured PMNS matrix as $U_{\\rm{PMNS}}$ and the matrix want to fit it to as $V$, one possible likelihood choice is given by:\n",
    "\n",
    "$$\n",
    "\\mathcal{L} = \\sum_{i,j=1}^{4}\\left|U_{{\\rm{PMNS}},\\, ij}-V_{ij}\\right|\n",
    "$$\n",
    "\n",
    "This is strictly non-negative since it is a sum of square real numbers, and it achives the global minimum of 0 exactly when each element of $V$ is equal to each member of $U_{\\rm{PMNS}}$."
   ]
  },
  {
   "cell_type": "markdown",
   "metadata": {},
   "source": [
    "## Define functions for each element of the parametrized matrix\n",
    "Don't do this by hand. Copy and paste this from me or use Mathematica"
   ]
  },
  {
   "cell_type": "code",
   "execution_count": 2,
   "metadata": {},
   "outputs": [],
   "source": [
    "paper_params = (-0.6031, 7.412-4*np.pi, 0.7966, 1.0139, 0.7053, -8.065+4*np.pi)"
   ]
  },
  {
   "cell_type": "code",
   "execution_count": 3,
   "metadata": {
    "code_folding": [
     0
    ]
   },
   "outputs": [],
   "source": [
    "def V11(alpha, beta, gamma, delta, epsilon, zeta):\n",
    "    return Sin(beta/2.)*(Cos(alpha/2.)*(Cos(zeta/2.)*Sin(delta/2.)*Sin((epsilon + gamma)/2.) - Cos(delta/2.)*Cos((epsilon - gamma)/2.)*Sin(zeta/2.)) + \\\n",
    "           Sin(alpha/2.)*(-(Cos((epsilon + gamma)/2.)*Cos(zeta/2.)*Sin(delta/2.)) + Cos(delta/2.)*Sin((epsilon - gamma)/2.)*Sin(zeta/2.))) + \\\n",
    "           Cos(beta/2.)*(-(Sin(alpha/2.)*(Cos(delta/2.)*Cos(zeta/2.)*Sin((epsilon + gamma)/2.) + Cos((epsilon - gamma)/2.)*Sin(delta/2.)*Sin(zeta/2.))) + \\\n",
    "           Cos(alpha/2.)*(Cos(delta/2.)*Cos((epsilon + gamma)/2.)*Cos(zeta/2.) + Sin(delta/2.)*Sin((epsilon - gamma)/2.)*Sin(zeta/2.)))"
   ]
  },
  {
   "cell_type": "code",
   "execution_count": 4,
   "metadata": {
    "code_folding": [
     0
    ]
   },
   "outputs": [],
   "source": [
    "def V21(alpha, beta, gamma, delta, epsilon, zeta):\n",
    "    return Cos(beta/2.)*(Cos(delta/2.)*Cos(zeta/2.)*Sin((alpha + epsilon + gamma)/2.) - Cos((alpha - epsilon + gamma)/2.)*Sin(delta/2.)*Sin(zeta/2.)) + \\\n",
    "           Sin(beta/2.)*(-(Sin(alpha/2.)*(Cos(zeta/2.)*Sin(delta/2.)*Sin((epsilon + gamma)/2.) + Cos(delta/2.)*Cos((epsilon - gamma)/2.)*Sin(zeta/2.))) - \\\n",
    "           Cos(alpha/2.)*(Cos((epsilon + gamma)/2.)*Cos(zeta/2.)*Sin(delta/2.) + Cos(delta/2.)*Sin((epsilon - gamma)/2.)*Sin(zeta/2.)))"
   ]
  },
  {
   "cell_type": "code",
   "execution_count": 5,
   "metadata": {
    "code_folding": [
     0
    ]
   },
   "outputs": [],
   "source": [
    "def V31(alpha, beta, gamma, delta, epsilon, zeta):\n",
    "    return Sin(alpha/2.)*(-(Sin(beta/2.)*(Cos(delta/2.)*Cos(zeta/2.)*Sin((epsilon - gamma)/2.) + Cos((epsilon + gamma)/2.)*Sin(delta/2.)*Sin(zeta/2.))) + \\\n",
    "           Cos(beta/2.)*(Cos((epsilon - gamma)/2.)*Cos(zeta/2.)*Sin(delta/2.) - Cos(delta/2.)*Sin((epsilon + gamma)/2.)*Sin(zeta/2.))) + \\\n",
    "           Cos(alpha/2.)*(Cos(delta/2.)*(Cos((epsilon - gamma)/2.)*Cos(zeta/2.)*Sin(beta/2.) + Cos(beta/2.)*Cos((epsilon + gamma)/2.)*Sin(zeta/2.)) + \\\n",
    "           Sin(delta/2.)*(-(Cos(beta/2.)*Cos(zeta/2.)*Sin((epsilon - gamma)/2.)) + Sin(beta/2.)*Sin((epsilon + gamma)/2.)*Sin(zeta/2.)))"
   ]
  },
  {
   "cell_type": "code",
   "execution_count": 6,
   "metadata": {
    "code_folding": [
     0
    ]
   },
   "outputs": [],
   "source": [
    "def V41(alpha, beta, gamma, delta, epsilon, zeta):\n",
    "    return Sin(beta/2.)*(Cos(delta/2.)*Cos(zeta/2.)*Sin((alpha + epsilon - gamma)/2.) - Cos((alpha - epsilon - gamma)/2.)*Sin(delta/2.)*Sin(zeta/2.)) + \\\n",
    "           Cos(beta/2.)*(Sin(alpha/2.)*(Cos(zeta/2.)*Sin(delta/2.)*Sin((epsilon - gamma)/2.) + Cos(delta/2.)*Cos((epsilon + gamma)/2.)*Sin(zeta/2.)) + \\\n",
    "           Cos(alpha/2.)*(Cos((epsilon - gamma)/2.)*Cos(zeta/2.)*Sin(delta/2.) + Cos(delta/2.)*Sin((epsilon + gamma)/2.)*Sin(zeta/2.)))"
   ]
  },
  {
   "cell_type": "code",
   "execution_count": 7,
   "metadata": {
    "code_folding": [
     0
    ]
   },
   "outputs": [],
   "source": [
    "def V12(alpha, beta, gamma, delta, epsilon, zeta):\n",
    "    return -(Cos(beta/2.)*(Cos(delta/2.)*Cos(zeta/2.)*Sin((alpha + epsilon + gamma)/2.) + Cos((alpha - epsilon + gamma)/2.)*Sin(delta/2.)*Sin(zeta/2.))) + \\\n",
    "           Sin(beta/2.)*(Sin(alpha/2.)*(-(Cos(zeta/2.)*Sin(delta/2.)*Sin((epsilon + gamma)/2.)) + Cos(delta/2.)*Cos((epsilon - gamma)/2.)*Sin(zeta/2.)) + \\\n",
    "           Cos(alpha/2.)*(-(Cos((epsilon + gamma)/2.)*Cos(zeta/2.)*Sin(delta/2.)) + Cos(delta/2.)*Sin((epsilon - gamma)/2.)*Sin(zeta/2.)))"
   ]
  },
  {
   "cell_type": "code",
   "execution_count": 8,
   "metadata": {
    "code_folding": [
     0
    ]
   },
   "outputs": [],
   "source": [
    "def V22(alpha, beta, gamma, delta, epsilon, zeta):\n",
    "    return Sin(beta/2.)*(-(Cos(alpha/2.)*(Cos(zeta/2.)*Sin(delta/2.)*Sin((epsilon + gamma)/2.) + Cos(delta/2.)*Cos((epsilon - gamma)/2.)*Sin(zeta/2.))) + \\\n",
    "           Sin(alpha/2.)*(Cos((epsilon + gamma)/2.)*Cos(zeta/2.)*Sin(delta/2.) + Cos(delta/2.)*Sin((epsilon - gamma)/2.)*Sin(zeta/2.))) + \\\n",
    "           Cos(beta/2.)*(Sin(alpha/2.)*(-(Cos(delta/2.)*Cos(zeta/2.)*Sin((epsilon + gamma)/2.)) + Cos((epsilon - gamma)/2.)*Sin(delta/2.)*Sin(zeta/2.)) + \\\n",
    "           Cos(alpha/2.)*(Cos(delta/2.)*Cos((epsilon + gamma)/2.)*Cos(zeta/2.) - Sin(delta/2.)*Sin((epsilon - gamma)/2.)*Sin(zeta/2.)))"
   ]
  },
  {
   "cell_type": "code",
   "execution_count": 9,
   "metadata": {
    "code_folding": [
     0
    ]
   },
   "outputs": [],
   "source": [
    "def V32(alpha, beta, gamma, delta, epsilon, zeta):\n",
    "    return -(Sin(beta/2.)*(Cos(delta/2.)*Cos(zeta/2.)*Sin((alpha + epsilon - gamma)/2.) + Cos((alpha - epsilon - gamma)/2.)*Sin(delta/2.)*Sin(zeta/2.))) + \\\n",
    "           Cos(beta/2.)*(Sin(alpha/2.)*(Cos(zeta/2.)*Sin(delta/2.)*Sin((epsilon - gamma)/2.) - Cos(delta/2.)*Cos((epsilon + gamma)/2.)*Sin(zeta/2.)) + \\\n",
    "           Cos(alpha/2.)*(Cos((epsilon - gamma)/2.)*Cos(zeta/2.)*Sin(delta/2.) - Cos(delta/2.)*Sin((epsilon + gamma)/2.)*Sin(zeta/2.)))"
   ]
  },
  {
   "cell_type": "code",
   "execution_count": 10,
   "metadata": {
    "code_folding": [
     0
    ]
   },
   "outputs": [],
   "source": [
    "def V42(alpha, beta, gamma, delta, epsilon, zeta):\n",
    "    return -(Sin(alpha/2.)*(Sin(beta/2.)*(Cos(delta/2.)*Cos(zeta/2.)*Sin((epsilon - gamma)/2.) - Cos((epsilon + gamma)/2.)*Sin(delta/2.)*Sin(zeta/2.)) + \\\n",
    "           Cos(beta/2.)*(Cos((epsilon - gamma)/2.)*Cos(zeta/2.)*Sin(delta/2.) + Cos(delta/2.)*Sin((epsilon + gamma)/2.)*Sin(zeta/2.)))) + \\\n",
    "           Cos(alpha/2.)*(Cos(delta/2.)*(Cos((epsilon - gamma)/2.)*Cos(zeta/2.)*Sin(beta/2.) + Cos(beta/2.)*Cos((epsilon + gamma)/2.)*Sin(zeta/2.)) + \\\n",
    "           Sin(delta/2.)*(Cos(beta/2.)*Cos(zeta/2.)*Sin((epsilon - gamma)/2.) - Sin(beta/2.)*Sin((epsilon + gamma)/2.)*Sin(zeta/2.))) "
   ]
  },
  {
   "cell_type": "code",
   "execution_count": 11,
   "metadata": {
    "code_folding": [
     0
    ]
   },
   "outputs": [],
   "source": [
    "def V13(alpha, beta, gamma, delta, epsilon, zeta):\n",
    "    return Sin(alpha/2.)*(Sin(beta/2.)*(Cos(delta/2.)*Cos(zeta/2.)*Sin((epsilon + gamma)/2.) + Cos((epsilon - gamma)/2.)*Sin(delta/2.)*Sin(zeta/2.)) + \\\n",
    "           Cos(beta/2.)*(-(Cos((epsilon + gamma)/2.)*Cos(zeta/2.)*Sin(delta/2.)) + Cos(delta/2.)*Sin((epsilon - gamma)/2.)*Sin(zeta/2.))) - \\\n",
    "           Cos(alpha/2.)*(Cos(delta/2.)*(Cos((epsilon + gamma)/2.)*Cos(zeta/2.)*Sin(beta/2.) + Cos(beta/2.)*Cos((epsilon - gamma)/2.)*Sin(zeta/2.)) + \\\n",
    "           Sin(delta/2.)*(-(Cos(beta/2.)*Cos(zeta/2.)*Sin((epsilon + gamma)/2.)) + Sin(beta/2.)*Sin((epsilon - gamma)/2.)*Sin(zeta/2.)))"
   ]
  },
  {
   "cell_type": "code",
   "execution_count": 12,
   "metadata": {
    "code_folding": [
     0
    ]
   },
   "outputs": [],
   "source": [
    "def V23(alpha, beta, gamma, delta, epsilon, zeta):\n",
    "    return -(Sin(beta/2.)*(Cos(delta/2.)*Cos(zeta/2.)*Sin((alpha + epsilon + gamma)/2.) - Cos((alpha - epsilon + gamma)/2.)*Sin(delta/2.)*Sin(zeta/2.))) + \\\n",
    "           Cos(beta/2.)*(-(Sin(alpha/2.)*(Cos(zeta/2.)*Sin(delta/2.)*Sin((epsilon + gamma)/2.) + Cos(delta/2.)*Cos((epsilon - gamma)/2.)*Sin(zeta/2.))) - \\\n",
    "           Cos(alpha/2.)*(Cos((epsilon + gamma)/2.)*Cos(zeta/2.)*Sin(delta/2.) + Cos(delta/2.)*Sin((epsilon - gamma)/2.)*Sin(zeta/2.)))"
   ]
  },
  {
   "cell_type": "code",
   "execution_count": 13,
   "metadata": {
    "code_folding": [
     0
    ]
   },
   "outputs": [],
   "source": [
    "def V33(alpha, beta, gamma, delta, epsilon, zeta):\n",
    "    return -(Sin(beta/2.)*(Cos(alpha/2.)*(-(Cos(zeta/2.)*Sin(delta/2.)*Sin((epsilon - gamma)/2.)) + Cos(delta/2.)*Cos((epsilon + gamma)/2.)*Sin(zeta/2.)) + \\\n",
    "            Sin(alpha/2.)*(Cos((epsilon - gamma)/2.)*Cos(zeta/2.)*Sin(delta/2.) - Cos(delta/2.)*Sin((epsilon + gamma)/2.)*Sin(zeta/2.)))) + \\\n",
    "            Cos(beta/2.)*(-(Sin(alpha/2.)*(Cos(delta/2.)*Cos(zeta/2.)*Sin((epsilon - gamma)/2.) + Cos((epsilon + gamma)/2.)*Sin(delta/2.)*Sin(zeta/2.))) + \\\n",
    "            Cos(alpha/2.)*(Cos(delta/2.)*Cos((epsilon - gamma)/2.)*Cos(zeta/2.) + Sin(delta/2.)*Sin((epsilon + gamma)/2.)*Sin(zeta/2.)))"
   ]
  },
  {
   "cell_type": "code",
   "execution_count": 14,
   "metadata": {
    "code_folding": [
     0
    ]
   },
   "outputs": [],
   "source": [
    "def V43(alpha, beta, gamma, delta, epsilon, zeta):\n",
    "    return Cos(beta/2.)*(Cos(delta/2.)*Cos(zeta/2.)*Sin((alpha + epsilon - gamma)/2.) - Cos((alpha - epsilon - gamma)/2.)*Sin(delta/2.)*Sin(zeta/2.)) - \\\n",
    "            Sin(beta/2.)*(Sin(alpha/2.)*(Cos(zeta/2.)*Sin(delta/2.)*Sin((epsilon - gamma)/2.) + Cos(delta/2.)*Cos((epsilon + gamma)/2.)*Sin(zeta/2.)) + \\\n",
    "            Cos(alpha/2.)*(Cos((epsilon - gamma)/2.)*Cos(zeta/2.)*Sin(delta/2.) + Cos(delta/2.)*Sin((epsilon + gamma)/2.)*Sin(zeta/2.)))"
   ]
  },
  {
   "cell_type": "code",
   "execution_count": 15,
   "metadata": {
    "code_folding": [
     0
    ]
   },
   "outputs": [],
   "source": [
    "def V14(alpha, beta, gamma, delta, epsilon, zeta):\n",
    "    return Sin(beta/2.)*(Cos(delta/2.)*Cos(zeta/2.)*Sin((alpha + epsilon + gamma)/2.) + Cos((alpha - epsilon + gamma)/2.)*Sin(delta/2.)*Sin(zeta/2.)) + \\\n",
    "            Cos(beta/2.)*(Sin(alpha/2.)*(-(Cos(zeta/2.)*Sin(delta/2.)*Sin((epsilon + gamma)/2.)) + Cos(delta/2.)*Cos((epsilon - gamma)/2.)*Sin(zeta/2.)) +\\\n",
    "            Cos(alpha/2.)*(-(Cos((epsilon + gamma)/2.)*Cos(zeta/2.)*Sin(delta/2.)) + Cos(delta/2.)*Sin((epsilon - gamma)/2.)*Sin(zeta/2.)))"
   ]
  },
  {
   "cell_type": "code",
   "execution_count": 16,
   "metadata": {
    "code_folding": [
     0
    ]
   },
   "outputs": [],
   "source": [
    "def V24(alpha, beta, gamma, delta, epsilon, zeta):\n",
    "    return Sin(alpha/2.)*(Sin(beta/2.)*(Cos(delta/2.)*Cos(zeta/2.)*Sin((epsilon + gamma)/2.) - Cos((epsilon - gamma)/2.)*Sin(delta/2.)*Sin(zeta/2.)) + \\\n",
    "            Cos(beta/2.)*(Cos((epsilon + gamma)/2.)*Cos(zeta/2.)*Sin(delta/2.) + Cos(delta/2.)*Sin((epsilon - gamma)/2.)*Sin(zeta/2.))) - \\\n",
    "            Cos(alpha/2.)*(Cos(delta/2.)*(Cos((epsilon + gamma)/2.)*Cos(zeta/2.)*Sin(beta/2.) + Cos(beta/2.)*Cos((epsilon - gamma)/2.)*Sin(zeta/2.)) + \\\n",
    "            Sin(delta/2.)*(Cos(beta/2.)*Cos(zeta/2.)*Sin((epsilon + gamma)/2.) - Sin(beta/2.)*Sin((epsilon - gamma)/2.)*Sin(zeta/2.)))"
   ]
  },
  {
   "cell_type": "code",
   "execution_count": 17,
   "metadata": {
    "code_folding": [
     0
    ]
   },
   "outputs": [],
   "source": [
    "def V34(alpha, beta, gamma, delta, epsilon, zeta):\n",
    "    return -(Cos(beta/2.)*(Cos(delta/2.)*Cos(zeta/2.)*Sin((alpha + epsilon - gamma)/2.) + Cos((alpha - epsilon - gamma)/2.)*Sin(delta/2.)*Sin(zeta/2.))) - \\\n",
    "            Sin(beta/2.)*(Sin(alpha/2.)*(Cos(zeta/2.)*Sin(delta/2.)*Sin((epsilon - gamma)/2.) - Cos(delta/2.)*Cos((epsilon + gamma)/2.)*Sin(zeta/2.)) + \\\n",
    "            Cos(alpha/2.)*(Cos((epsilon - gamma)/2.)*Cos(zeta/2.)*Sin(delta/2.) - Cos(delta/2.)*Sin((epsilon + gamma)/2.)*Sin(zeta/2.)))"
   ]
  },
  {
   "cell_type": "code",
   "execution_count": 18,
   "metadata": {
    "code_folding": [
     0
    ]
   },
   "outputs": [],
   "source": [
    "def V44(alpha, beta, gamma, delta, epsilon, zeta):\n",
    "    return -(Sin(beta/2.)*(Cos(alpha/2.)*(Cos(zeta/2.)*Sin(delta/2.)*Sin((epsilon - gamma)/2.) + Cos(delta/2.)*Cos((epsilon + gamma)/2.)*Sin(zeta/2.)) - \\\n",
    "            Sin(alpha/2.)*(Cos((epsilon - gamma)/2.)*Cos(zeta/2.)*Sin(delta/2.) + Cos(delta/2.)*Sin((epsilon + gamma)/2.)*Sin(zeta/2.)))) + \\\n",
    "            Cos(beta/2.)*(Sin(alpha/2.)*(-(Cos(delta/2.)*Cos(zeta/2.)*Sin((epsilon - gamma)/2.)) + Cos((epsilon + gamma)/2.)*Sin(delta/2.)*Sin(zeta/2.)) + \\\n",
    "            Cos(alpha/2.)*(Cos(delta/2.)*Cos((epsilon - gamma)/2.)*Cos(zeta/2.) - Sin(delta/2.)*Sin((epsilon + gamma)/2.)*Sin(zeta/2.)))"
   ]
  },
  {
   "cell_type": "markdown",
   "metadata": {},
   "source": [
    "## Now we gather up all these functions and put them in a nice matrix form"
   ]
  },
  {
   "cell_type": "code",
   "execution_count": 19,
   "metadata": {
    "code_folding": [
     0
    ]
   },
   "outputs": [],
   "source": [
    "def V(params):\n",
    "    return np.array([\n",
    "                     [V11(*params), V12(*params), V13(*params), V14(*params)],\n",
    "                     [V21(*params), V22(*params), V23(*params), V24(*params)],\n",
    "                     [V31(*params), V32(*params), V33(*params), V34(*params)],\n",
    "                     [V41(*params), V42(*params), V43(*params), V44(*params)],\n",
    "                    ]\n",
    "                   )"
   ]
  },
  {
   "cell_type": "markdown",
   "metadata": {},
   "source": [
    "Define the measured PMNS matrix"
   ]
  },
  {
   "cell_type": "code",
   "execution_count": 75,
   "metadata": {
    "code_folding": []
   },
   "outputs": [
    {
     "name": "stdout",
     "output_type": "stream",
     "text": [
      "[[ 1.00000003e+00 -3.78223326e-08 -1.61201779e-07  1.57220400e-10]\n",
      " [-3.78223326e-08  1.00000025e+00  5.31893638e-07 -1.40951200e-10]\n",
      " [-1.61201779e-07  5.31893638e-07  1.00000062e+00  5.98567600e-10]\n",
      " [ 1.57220400e-10 -1.40951200e-10  5.98567600e-10  1.00000004e+00]]\n"
     ]
    }
   ],
   "source": [
    "U_PMNS = np.array([\n",
    "                   [0.821327, 0.149719, 0.55046, 0.0000235964],\n",
    "                   [0.305724, 0.699143, -0.646322, 0.000158188],\n",
    "                   [-0.481617, 0.699131, 0.528452, 0.000103754],\n",
    "                   [-0.0000177728, -0.000186666, 0.000034423, 1.]\n",
    "                  ]\n",
    "                 )\n",
    "\n",
    "print(np.matmul(U_PMNS,U_PMNS.T))"
   ]
  },
  {
   "cell_type": "markdown",
   "metadata": {},
   "source": [
    "## Define likelihood described above"
   ]
  },
  {
   "cell_type": "code",
   "execution_count": 76,
   "metadata": {},
   "outputs": [],
   "source": [
    "def matrix_likelihood(params, target_matrix):\n",
    "    if np.any([p>2*np.pi for p in params]):\n",
    "        value = np.inf\n",
    "    elif np.any([p<-2*np.pi for p in params]):\n",
    "        value = np.inf\n",
    "    else:\n",
    "        mat   = V(tuple(params))\n",
    "        value = np.sum([np.abs(np.abs(mat[i,j]-target_matrix[i,j])) for i in range(4)\n",
    "                                                                    for j in range(4)]\n",
    "                 )\n",
    "    return value"
   ]
  },
  {
   "cell_type": "markdown",
   "metadata": {},
   "source": [
    "We must provide a starting point in the paramter space to the minimizer. In general, we would like this to be reasonably close to the best fit point. In order to find a decent starting position, we can pick $n$ positions randomly, and then pick the one that gives us the minimum likelihood value."
   ]
  },
  {
   "cell_type": "code",
   "execution_count": 77,
   "metadata": {},
   "outputs": [
    {
     "name": "stdout",
     "output_type": "stream",
     "text": [
      "Relative error for each entry\n",
      "[[-4.55745778e-08  5.83415001e-07  5.42054300e-09  8.96142006e-05]\n",
      " [ 1.02599732e-07 -2.89517976e-07  1.49874167e-08 -6.70907341e-07]\n",
      " [-2.10821377e-07 -6.61373723e-07  2.28138886e-07  7.28124363e-06]\n",
      " [ 6.15390159e-05  6.40762044e-06 -6.21921993e-05 -1.81726747e-08]]\n",
      "The best fit parameters are $\\alpha$=-3.7446924807019, $\\beta$=4.270407571663188, $\\gamma$=-0.7965997739279611, $\\delta$=5.269285772460497, $\\epsilon$=-2.4362928576222536, $\\zeta$=-4.923407089706265\n"
     ]
    }
   ],
   "source": [
    "# randomly select set of params\n",
    "n_guesses                   = 10000\n",
    "first_guesses               = [tuple(2*np.pi*(2*np.random.rand((6))-1)) for i in range(n_guesses)]\n",
    "llhs                        = [matrix_likelihood(guess, U_PMNS) for guess in first_guesses] # evaluate likelihood for each guess\n",
    "sorted_llhs, sorted_guesses = zip(*sorted(zip(llhs, first_guesses)))\n",
    "best_guess                  = np.array(sorted_guesses[0]) # pick the guess that gave the lowest likelihood value\n",
    "result                      = minimize(matrix_likelihood, best_guess, method='L-BFGS-B', args=U_PMNS) # run the minimizer starting from the best guess\n",
    "print('Relative error for each entry')\n",
    "print((V(result.x)-U_PMNS)/U_PMNS)\n",
    "print(r'The best fit parameters are $\\alpha$=%s, $\\beta$=%s, $\\gamma$=%s, $\\delta$=%s, $\\epsilon$=%s, $\\zeta$=%s' % tuple(result.x))"
   ]
  },
  {
   "cell_type": "markdown",
   "metadata": {},
   "source": [
    "# Error evaluation\n",
    "\n",
    "Easy peasy. Now let's move on to thinking about choosing a good basis. This comes down to a choice of basis vectors. Before we were using the convention:\n",
    "\n",
    "\\begin{align}\n",
    "\\left|\\nu_{1}\\right> = \\begin{pmatrix}1\\\\0\\\\0\\\\0\\end{pmatrix} \\qquad \\left|\\nu_{2}\\right> = \\begin{pmatrix}0\\\\1\\\\0\\\\0\\end{pmatrix} \\qquad \\left|\\nu_{3}\\right> = \\begin{pmatrix}0\\\\0\\\\1\\\\0\\end{pmatrix},\n",
    "\\end{align}\n",
    "\n",
    "but this was an arbitrary choice, and infinitely many other choices are available, some of which may result in fewer errors.\n",
    "\n",
    "As a reminder, errors come from an accidental bit flip, which can happen with some probability which we measure empirically. We will label the probability of an accidental bit flip in the first and second qubits $p_{1}$ and $p_{2}$ respectively. For now, I will just take the numbers given in Carlos' paper and we can make our own measurement independently, \\textit{i.e.} we will set $p_{1}$=0.13 and $p_{1}$=0.03.\n",
    "\n",
    "Our strategy will be:\n",
    "\n",
    "1) Pick a random set of basis vectors.\n",
    "\n",
    "2) Run our quantum code using the quantum simulator.\n",
    "\n",
    "3) Probabilistically flip some of the bits from the results according to our $p$s\n",
    "\n",
    "\n",
    "4) Repeat many times, assessing the level of error for each, and find which set of basis vectors give the smallest error"
   ]
  },
  {
   "cell_type": "markdown",
   "metadata": {},
   "source": [
    "## 1) Basis vectors\n",
    "\n",
    "The two rules of basis vectors are 1) they must be orthogonal. 2) They must have modulus of 1. Since these are very common conditions in physics, we say that a set of vectors that meets both is \\textit{orthonormal}. Given an arbitrary set of vectors, we can create a set of vectors that abide by these conditions using the Gram-Schmidt procedure."
   ]
  },
  {
   "cell_type": "code",
   "execution_count": 78,
   "metadata": {},
   "outputs": [],
   "source": [
    "def norm(vector):\n",
    "    vector= np.array(vector)\n",
    "    return np.sqrt(np.sum(vector*vector))\n",
    "\n",
    "def gram_schmidt(vectors):\n",
    "    assert(vectors.shape[0]==vectors.shape[1])\n",
    "    result = np.zeros(vectors.shape)\n",
    "    for i, vec0 in enumerate(vectors):\n",
    "        tmp = vec0\n",
    "        for vec in result[:i]:\n",
    "            tmp = tmp-np.dot(vec, vec0)*vec\n",
    "        result[i] = tmp/norm(tmp)\n",
    "    return result"
   ]
  },
  {
   "cell_type": "code",
   "execution_count": 79,
   "metadata": {},
   "outputs": [],
   "source": [
    "vectors      = (np.random.rand(16)-0.5).reshape(4,4) # Generate some random numbers\n",
    "gs_vectors   = gram_schmidt(vectors)\n",
    "U_PMNS_prime = np.matmul(gs_vectors, U_PMNS.T)"
   ]
  },
  {
   "cell_type": "markdown",
   "metadata": {},
   "source": [
    "## 2) Run on a quantum simulator\n",
    "\n",
    "Now we have a new basis selected, which ultimately gives us a different representation on the PMNS matrix. Thus we must fit a new set of parameters that we can enter into our simulator"
   ]
  },
  {
   "cell_type": "code",
   "execution_count": 80,
   "metadata": {},
   "outputs": [
    {
     "name": "stdout",
     "output_type": "stream",
     "text": [
      "The best fit parameters are $\\alpha$=-4.23500934274976, $\\beta$=-3.3325282708265194, $\\gamma$=-5.011558075447139, $\\delta$=1.0994512530123357, $\\epsilon$=2.6912354292094016, $\\zeta$=4.063133676939488\n",
      "Let's check a couple things. First, let's make sure that we have an orthoginal matrix. These should both give the identity matrix\n",
      "np.matmul(V(PMNS_params), V(PMNS_params).T)==\n",
      "[[ 1.00000000e+00 -6.11323858e-17  1.41433347e-16  3.82093603e-17]\n",
      " [-6.11323858e-17  1.00000000e+00 -1.79040583e-17  2.34975630e-17]\n",
      " [ 1.41433347e-16 -1.79040583e-17  1.00000000e+00 -9.94177004e-17]\n",
      " [ 3.82093603e-17  2.34975630e-17 -9.94177004e-17  1.00000000e+00]]\n",
      "np.matmul(V(PMNS_params), V(PMNS_dagger_params))==\n",
      "[[ 1.00000000e+00  1.29663266e-17  3.80755797e-16  1.43992797e-16]\n",
      " [-9.15540645e-17  1.00000000e+00 -2.90127608e-16 -2.51392090e-16]\n",
      " [-2.10070053e-16  2.50282197e-16  1.00000000e+00 -2.19759086e-16]\n",
      " [-5.08628590e-17  3.32029613e-16  1.34237889e-16  1.00000000e+00]]\n"
     ]
    },
    {
     "name": "stderr",
     "output_type": "stream",
     "text": [
      "/Users/jlazar/anaconda3/envs/qiskit/lib/python3.8/site-packages/scipy/optimize/_numdiff.py:497: RuntimeWarning: invalid value encountered in subtract\n",
      "  df = fun(x) - f0\n"
     ]
    }
   ],
   "source": [
    "# randomly select set of params\n",
    "n_guesses                   = 10000\n",
    "first_guesses               = [tuple(2*np.pi*(2*np.random.rand((6))-1)) for i in range(n_guesses)]\n",
    "llhs                        = [matrix_likelihood(guess, U_PMNS_prime) for guess in first_guesses] # evaluate likelihood for each guess\n",
    "sorted_llhs, sorted_guesses = zip(*sorted(zip(llhs, first_guesses)))\n",
    "best_guess                  = np.array(sorted_guesses[0]) # pick the guess that gave the lowest likelihood value\n",
    "PMNS_fit                    = minimize(matrix_likelihood, best_guess, method='L-BFGS-B', tol=1e-15, args=U_PMNS_prime) # run the minimizer starting from the best guess\n",
    "PMNS_params                 = PMNS_fit.x\n",
    "PMNS_dagger_params          = (-PMNS_params[4],-PMNS_params[5],-PMNS_params[2],-PMNS_params[3],-PMNS_params[0],-PMNS_params[1],)\n",
    "print(r'The best fit parameters are $\\alpha$=%s, $\\beta$=%s, $\\gamma$=%s, $\\delta$=%s, $\\epsilon$=%s, $\\zeta$=%s' % tuple(PMNS_params))\n",
    "\n",
    "print(\"Let's check a couple things. First, let's make sure that we have an orthoginal matrix. These should both give the identity matrix\")\n",
    "print(\"np.matmul(V(PMNS_params), V(PMNS_params).T)==\")\n",
    "print(np.matmul(V(PMNS_params), V(PMNS_params).T))\n",
    "\n",
    "print(\"np.matmul(V(PMNS_params), V(PMNS_dagger_params))==\")\n",
    "print(np.matmul(V(PMNS_params), V(PMNS_dagger_params)))"
   ]
  },
  {
   "cell_type": "markdown",
   "metadata": {},
   "source": [
    "We have a set of parameters for our propagation, so now let's propagate"
   ]
  },
  {
   "cell_type": "code",
   "execution_count": 81,
   "metadata": {},
   "outputs": [],
   "source": [
    "from three_neutrino import ThreeNuOscillator"
   ]
  },
  {
   "cell_type": "code",
   "execution_count": 84,
   "metadata": {},
   "outputs": [],
   "source": [
    "loee = np.linspace(0, 1200, 21)\n",
    "n = 100000\n",
    "results = np.zeros((4,len(loee)))\n",
    "for i, LE in enumerate(loee):\n",
    "    tno = ThreeNuOscillator('numu')\n",
    "    tno.apply_rotation(param=PMNS_params)\n",
    "    tno.propoagate(LE)\n",
    "    tno.apply_rotation(param=PMNS_dagger_params)\n",
    "    tno.measure()\n",
    "    job = execute(tno.qc, Aer.get_backend('qasm_simulator'), shots=n)\n",
    "    counts = job.result().get_counts(tno.qc)\n",
    "    for j, (key, val) in enumerate(sorted(counts.items())):\n",
    "        results[j, i] = float(val)/n\n",
    "\n"
   ]
  },
  {
   "cell_type": "code",
   "execution_count": 85,
   "metadata": {},
   "outputs": [
    {
     "data": {
      "image/png": "[encoded data removed]",
      "text/plain": [
       "<Figure size 360x216 with 1 Axes>"
      ]
     },
     "metadata": {
      "needs_background": "light"
     },
     "output_type": "display_data"
    }
   ],
   "source": [
    "labels = [r'$\\nu_{\\tau}$', r'$\\nu_{e}$', r'$\\nu_{\\mu}$']\n",
    "cs     = ['#56aa69', '#ffbf6e', '#4d528a']\n",
    "plt.figure(figsize=[5,3])\n",
    "for i, (c, lab) in enumerate(zip(cs, labels)):\n",
    "    plt.plot(loee, results[i], label=lab, color=c)\n",
    "plt.legend(fontsize=15, ncol=3,loc='upper center', frameon=False)\n",
    "plt.xlim(0, 1200)\n",
    "plt.ylim(0,1.4)\n",
    "plt.title(r'$P\\left(\\nu_{\\mu}\\rightarrow\\nu_{\\alpha}\\right)$')\n",
    "plt.show()"
   ]
  },
  {
   "cell_type": "code",
   "execution_count": null,
   "metadata": {},
   "outputs": [],
   "source": []
  }
 ],
 "metadata": {
  "kernelspec": {
   "display_name": "Python 3",
   "language": "python",
   "name": "python3"
  },
  "language_info": {
   "codemirror_mode": {
    "name": "ipython",
    "version": 3
   },
   "file_extension": ".py",
   "mimetype": "text/x-python",
   "name": "python",
   "nbconvert_exporter": "python",
   "pygments_lexer": "ipython3",
   "version": "3.8.5"
  }
 },
 "nbformat": 4,
 "nbformat_minor": 4
}
